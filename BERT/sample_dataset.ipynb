{
 "cells": [
  {
   "cell_type": "code",
   "execution_count": 19,
   "metadata": {},
   "outputs": [],
   "source": [
    "import numpy as np"
   ]
  },
  {
   "cell_type": "code",
   "execution_count": 20,
   "metadata": {},
   "outputs": [],
   "source": [
    "d1 = np.load(\"../dataset/CICDDoS2019/01-12/DrDoS_UDP-DrDoS_UDP.npy\")\n",
    "d2 = np.load(\"../dataset/CICDDoS2019/01-12/Syn-Syn.npy\")\n",
    "d3 = np.load(\"../dataset/CICDDoS2019/01-12/UDPLag-UDP-lag.npy\")"
   ]
  },
  {
   "cell_type": "code",
   "execution_count": 21,
   "metadata": {},
   "outputs": [],
   "source": [
    "def sample_attack_data(data):\n",
    "    \n",
    "    attack_data = data[data[:, 0, -1] == 1]\n",
    "    benign_data = data[data[:, 0, -1] == 0]\n",
    "    benign_data_len = benign_data.shape[0]\n",
    "    print(benign_data_len)\n",
    "    sample_attack_size = benign_data_len * 1\n",
    "    sampled_attack_data_idx = np.random.choice(attack_data.shape[0], sample_attack_size, replace=False)\n",
    "    sampled_attack_data = attack_data[sampled_attack_data_idx]\n",
    "    \n",
    "    new_data = np.concatenate([sampled_attack_data, benign_data])\n",
    "    return new_data"
   ]
  },
  {
   "cell_type": "code",
   "execution_count": 22,
   "metadata": {},
   "outputs": [
    {
     "name": "stdout",
     "output_type": "stream",
     "text": [
      "460\n",
      "87\n",
      "792\n"
     ]
    }
   ],
   "source": [
    "d1 = sample_attack_data(d1)\n",
    "d2 = sample_attack_data(d2)\n",
    "d3 = sample_attack_data(d3)\n",
    "d4 = np.concatenate([d1, d2, d3])\n",
    "np.save(\"../dataset/SampledCIC/train/ddos_sampled_dataset.npy\", d4)"
   ]
  },
  {
   "cell_type": "code",
   "execution_count": 23,
   "metadata": {},
   "outputs": [
    {
     "name": "stdout",
     "output_type": "stream",
     "text": [
      "153.33333333333334\n",
      "(174, 5, 3)\n",
      "(1584, 5, 3)\n"
     ]
    }
   ],
   "source": [
    "print(d1.shape[0] / 6)\n",
    "print(d2.shape)\n",
    "print(d3.shape)"
   ]
  },
  {
   "cell_type": "code",
   "execution_count": 24,
   "metadata": {},
   "outputs": [
    {
     "name": "stdout",
     "output_type": "stream",
     "text": [
      "(2678, 5, 3)\n"
     ]
    }
   ],
   "source": [
    "print(d4.shape)"
   ]
  },
  {
   "cell_type": "code",
   "execution_count": 25,
   "metadata": {},
   "outputs": [],
   "source": [
    "import torch \n"
   ]
  },
  {
   "cell_type": "code",
   "execution_count": 26,
   "metadata": {},
   "outputs": [
    {
     "name": "stdout",
     "output_type": "stream",
     "text": [
      "tensor([1., 2., 3., 1., 2., 3.], dtype=torch.float64, grad_fn=<CatBackward0>)\n"
     ]
    }
   ],
   "source": [
    "a = torch.tensor([[1, 2], [1, 2], [1, 2]], dtype=float, requires_grad=True)\n",
    "b = torch.tensor([[1, 2], [1, 2], [1, 2]], dtype=float, requires_grad=True)\n",
    "b = torch.tensor([1, 2, 3], dtype=float, requires_grad=True)\n",
    "\n",
    "print(torch.concat([b,b]))\n"
   ]
  },
  {
   "cell_type": "code",
   "execution_count": 27,
   "metadata": {},
   "outputs": [
    {
     "ename": "RuntimeError",
     "evalue": "stack expects each tensor to be equal size, but got [3, 2] at entry 0 and [3] at entry 1",
     "output_type": "error",
     "traceback": [
      "\u001b[0;31m---------------------------------------------------------------------------\u001b[0m",
      "\u001b[0;31mRuntimeError\u001b[0m                              Traceback (most recent call last)",
      "Cell \u001b[0;32mIn[27], line 2\u001b[0m\n\u001b[1;32m      1\u001b[0m new_tensor \u001b[39m=\u001b[39m [a, b]\n\u001b[0;32m----> 2\u001b[0m new_tensor \u001b[39m=\u001b[39m torch\u001b[39m.\u001b[39;49mstack(new_tensor)\n\u001b[1;32m      3\u001b[0m \u001b[39mprint\u001b[39m(new_tensor)\n",
      "\u001b[0;31mRuntimeError\u001b[0m: stack expects each tensor to be equal size, but got [3, 2] at entry 0 and [3] at entry 1"
     ]
    }
   ],
   "source": [
    "\n",
    "new_tensor = [a, b]\n",
    "new_tensor = torch.stack(new_tensor)\n",
    "print(new_tensor)"
   ]
  }
 ],
 "metadata": {
  "kernelspec": {
   "display_name": "playground",
   "language": "python",
   "name": "python3"
  },
  "language_info": {
   "codemirror_mode": {
    "name": "ipython",
    "version": 3
   },
   "file_extension": ".py",
   "mimetype": "text/x-python",
   "name": "python",
   "nbconvert_exporter": "python",
   "pygments_lexer": "ipython3",
   "version": "3.11.0"
  },
  "vscode": {
   "interpreter": {
    "hash": "2d19117e93527c5bcbb9e9816e1a14ea13f633b6fcc583e3f968b523dfcfe2f2"
   }
  }
 },
 "nbformat": 4,
 "nbformat_minor": 2
}
