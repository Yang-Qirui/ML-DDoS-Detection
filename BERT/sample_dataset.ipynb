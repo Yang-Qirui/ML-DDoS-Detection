{
 "cells": [
  {
   "cell_type": "code",
   "execution_count": 2,
   "metadata": {},
   "outputs": [],
   "source": [
    "import numpy as np"
   ]
  },
  {
   "cell_type": "code",
   "execution_count": 5,
   "metadata": {},
   "outputs": [],
   "source": [
    "d1 = np.load(\"../dataset/DrDoS_UDP.npy\")\n",
    "d2 = np.load(\"../dataset/Syn.npy\")\n",
    "d3 = np.load(\"../dataset/UDP-lag.npy\")"
   ]
  },
  {
   "cell_type": "code",
   "execution_count": 12,
   "metadata": {},
   "outputs": [],
   "source": [
    "def sample_attack_data(data):\n",
    "    \n",
    "    attack_data = data[data[:, 0, -1] == 1]\n",
    "    benign_data = data[data[:, 0, -1] == 0]\n",
    "    benign_data_len = benign_data.shape[0]\n",
    "    print(benign_data_len)\n",
    "    sample_attack_size = benign_data_len * 5\n",
    "    sampled_attack_data_idx = np.random.choice(attack_data.shape[0], sample_attack_size, replace=False)\n",
    "    sampled_attack_data = attack_data[sampled_attack_data_idx]\n",
    "    \n",
    "    new_data = np.concatenate([sampled_attack_data, benign_data])\n",
    "    return new_data"
   ]
  },
  {
   "cell_type": "code",
   "execution_count": 13,
   "metadata": {},
   "outputs": [
    {
     "name": "stdout",
     "output_type": "stream",
     "text": [
      "202\n",
      "48\n",
      "328\n"
     ]
    }
   ],
   "source": [
    "d1 = sample_attack_data(d1)\n",
    "d2 = sample_attack_data(d2)\n",
    "d3 = sample_attack_data(d3)\n",
    "d4 = np.concatenate([d1, d2, d3])\n",
    "np.save(\"../dataset/ddos_sampled_dataset.npy\", d4)"
   ]
  },
  {
   "cell_type": "code",
   "execution_count": 11,
   "metadata": {},
   "outputs": [
    {
     "name": "stdout",
     "output_type": "stream",
     "text": [
      "202.0\n",
      "(288, 16, 3)\n",
      "(1968, 16, 3)\n"
     ]
    }
   ],
   "source": [
    "print(d1.shape[0] / 6)\n",
    "print(d2.shape)\n",
    "print(d3.shape)"
   ]
  },
  {
   "cell_type": "code",
   "execution_count": 9,
   "metadata": {},
   "outputs": [
    {
     "name": "stdout",
     "output_type": "stream",
     "text": [
      "(3468, 16, 3)\n"
     ]
    }
   ],
   "source": [
    "print(d4.shape)"
   ]
  },
  {
   "cell_type": "code",
   "execution_count": 14,
   "metadata": {},
   "outputs": [],
   "source": [
    "import torch \n"
   ]
  },
  {
   "cell_type": "code",
   "execution_count": 38,
   "metadata": {},
   "outputs": [
    {
     "name": "stdout",
     "output_type": "stream",
     "text": [
      "tensor([1., 2., 3., 1., 2., 3.], dtype=torch.float64, grad_fn=<CatBackward0>)\n"
     ]
    }
   ],
   "source": [
    "a = torch.tensor([[1, 2], [1, 2], [1, 2]], dtype=float, requires_grad=True)\n",
    "b = torch.tensor([[1, 2], [1, 2], [1, 2]], dtype=float, requires_grad=True)\n",
    "b = torch.tensor([1, 2, 3], dtype=float, requires_grad=True)\n",
    "\n",
    "print(torch.concat([b,b]))\n"
   ]
  },
  {
   "cell_type": "code",
   "execution_count": null,
   "metadata": {},
   "outputs": [],
   "source": [
    "\n",
    "new_tensor = [a, b]\n",
    "new_tensor = torch.stack(new_tensor)\n",
    "print(new_tensor)"
   ]
  }
 ],
 "metadata": {
  "kernelspec": {
   "display_name": "Python 3",
   "language": "python",
   "name": "python3"
  },
  "language_info": {
   "codemirror_mode": {
    "name": "ipython",
    "version": 3
   },
   "file_extension": ".py",
   "mimetype": "text/x-python",
   "name": "python",
   "nbconvert_exporter": "python",
   "pygments_lexer": "ipython3",
   "version": "3.11.5"
  }
 },
 "nbformat": 4,
 "nbformat_minor": 2
}
